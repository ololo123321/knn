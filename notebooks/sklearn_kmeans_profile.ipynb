{
 "cells": [
  {
   "cell_type": "code",
   "execution_count": 1,
   "id": "812829d2-5d8a-4810-b922-63120abc4567",
   "metadata": {},
   "outputs": [],
   "source": [
    "import numpy as np\n",
    "from sklearn.cluster import KMeans\n",
    "from sklearn.datasets import make_blobs\n",
    "from sklearn.cluster._kmeans import _kmeans_single_lloyd\n",
    "from matplotlib import pyplot as plt\n",
    "%matplotlib inline"
   ]
  },
  {
   "cell_type": "code",
   "execution_count": 2,
   "id": "db5c4ca4-7ca0-472b-86a4-642adb11d6c7",
   "metadata": {},
   "outputs": [],
   "source": [
    "n_clusters = 10\n",
    "data, y, centers = make_blobs(\n",
    "    n_samples=10000, \n",
    "    n_features=32, \n",
    "    centers=n_clusters, \n",
    "    cluster_std=0.5, \n",
    "    shuffle=True,\n",
    "    random_state=42,\n",
    "    return_centers=True\n",
    ")"
   ]
  },
  {
   "cell_type": "code",
   "execution_count": 3,
   "id": "b02cea7b-f3a5-4bb3-8537-7edd89be5df9",
   "metadata": {},
   "outputs": [],
   "source": [
    "kwargs = {\n",
    "    \"n_clusters\": n_clusters,\n",
    "    \"init\": \"k-means++\",\n",
    "    \"n_init\": 10,\n",
    "    \"max_iter\": 300,\n",
    "    \"random_state\": 42,\n",
    "    \"tol\": 1e-4,\n",
    "    \"verbose\": False,\n",
    "    \"algorithm\": \"full\"  # \"full\" = \"lloyd\"\n",
    "}"
   ]
  },
  {
   "cell_type": "code",
   "execution_count": 4,
   "id": "d8d34f57-c3e7-4a89-af1f-163df2363581",
   "metadata": {},
   "outputs": [],
   "source": [
    "kmeans = KMeans(**kwargs)"
   ]
  },
  {
   "cell_type": "markdown",
   "id": "5a5dd9a6-7ea7-46be-95ec-de57dd8f8f6a",
   "metadata": {},
   "source": [
    "### fit"
   ]
  },
  {
   "cell_type": "code",
   "execution_count": 5,
   "id": "46229c7e-802b-4b84-bbae-f4ef09bab13d",
   "metadata": {},
   "outputs": [
    {
     "name": "stdout",
     "output_type": "stream",
     "text": [
      "1.01 s ± 30 ms per loop (mean ± std. dev. of 7 runs, 1 loop each)\n"
     ]
    }
   ],
   "source": [
    "%timeit kmeans.fit(data)"
   ]
  },
  {
   "cell_type": "code",
   "execution_count": 6,
   "id": "93e1c88e-af63-41fd-b0ff-a3753b4f5f88",
   "metadata": {},
   "outputs": [
    {
     "name": "stdout",
     "output_type": "stream",
     "text": [
      "79.3 ms ± 9.67 ms per loop (mean ± std. dev. of 7 runs, 10 loops each)\n"
     ]
    }
   ],
   "source": [
    "kmeans.init = 'random'\n",
    "%timeit kmeans.fit(data)"
   ]
  },
  {
   "cell_type": "markdown",
   "id": "3bdcf2bd-afaa-4b5d-ab3f-e60b768618a2",
   "metadata": {},
   "source": [
    "### one iter"
   ]
  },
  {
   "cell_type": "code",
   "execution_count": 7,
   "id": "7b3937c0-f254-4df3-ad53-51cc199dc1e7",
   "metadata": {},
   "outputs": [],
   "source": [
    "import time\n",
    "\n",
    "n_samples = data.shape[0]\n",
    "random_state = np.random.RandomState(228)\n",
    "kmeans_single = _kmeans_single_lloyd\n",
    "x_squared_norms = (data ** 2).sum(1)\n",
    "sample_weight = np.ones(n_samples, dtype=data.dtype)\n",
    "\n",
    "def fit(init):\n",
    "    t0 = time.time()\n",
    "    centers_init = kmeans._init_centroids(\n",
    "        data, \n",
    "        x_squared_norms=x_squared_norms, \n",
    "        init=init,\n",
    "        random_state=random_state\n",
    "    )\n",
    "    t_init = time.time() - t0\n",
    "    \n",
    "    # не зависит от init\n",
    "    t0 = time.time()\n",
    "    labels, inertia, centers, n_iter_ = kmeans_single(\n",
    "        data, \n",
    "        sample_weight, \n",
    "        centers_init, \n",
    "        max_iter=kmeans.max_iter, \n",
    "        verbose=False, \n",
    "        tol=kmeans._tol, \n",
    "        x_squared_norms=x_squared_norms, \n",
    "        n_threads=kmeans._n_threads\n",
    "    )\n",
    "    t_fit = time.time() - t0\n",
    "    return t_init, t_fit"
   ]
  },
  {
   "cell_type": "code",
   "execution_count": 8,
   "id": "e7e095c8-0b09-4e53-bf8a-a3b42aa60e8a",
   "metadata": {},
   "outputs": [
    {
     "name": "stdout",
     "output_type": "stream",
     "text": [
      "9.41 ms ± 1.48 ms per loop (mean ± std. dev. of 7 runs, 100 loops each)\n"
     ]
    }
   ],
   "source": [
    "%timeit fit(\"random\")"
   ]
  },
  {
   "cell_type": "code",
   "execution_count": 9,
   "id": "b3db2498-f7f5-476b-9293-cea0dfe1c17e",
   "metadata": {},
   "outputs": [
    {
     "name": "stdout",
     "output_type": "stream",
     "text": [
      "99 ms ± 2.68 ms per loop (mean ± std. dev. of 7 runs, 10 loops each)\n"
     ]
    }
   ],
   "source": [
    "%timeit fit(\"k-means++\")"
   ]
  },
  {
   "cell_type": "code",
   "execution_count": 10,
   "id": "0f535aeb-844f-48e6-8898-46c5c354f700",
   "metadata": {},
   "outputs": [],
   "source": [
    "res_random = []\n",
    "for _ in range(10):\n",
    "    res_random.append(step(\"random\"))\n",
    "res_pp = []\n",
    "for _ in range(10):\n",
    "    res_pp.append(step(\"k-means++\"))"
   ]
  },
  {
   "cell_type": "code",
   "execution_count": 11,
   "id": "92eae3ef-3ff6-4a3d-aa43-84b8012c851f",
   "metadata": {},
   "outputs": [
    {
     "data": {
      "image/png": "[encoded data removed]",
      "text/plain": [
       "<Figure size 432x288 with 1 Axes>"
      ]
     },
     "metadata": {
      "needs_background": "light"
     },
     "output_type": "display_data"
    }
   ],
   "source": [
    "plt.plot([x[0] for x in res_random], marker='o', label='random, init')\n",
    "plt.plot([x[1] for x in res_random], marker='o', label='random, fit')\n",
    "plt.plot([x[0] for x in res_pp], marker='o', label='k-means++, init')\n",
    "plt.plot([x[1] for x in res_pp], marker='o', label='k-means++, fit')\n",
    "plt.legend()\n",
    "plt.grid();"
   ]
  },
  {
   "cell_type": "markdown",
   "id": "84daab08-7357-419b-88ba-e89d05932649",
   "metadata": {},
   "source": [
    "### fit with verbose"
   ]
  },
  {
   "cell_type": "code",
   "execution_count": 12,
   "id": "9d36581b-fb30-491d-be29-7a89be39444f",
   "metadata": {},
   "outputs": [],
   "source": [
    "kmeans.verbose = True\n",
    "kmeans.n_init = 3"
   ]
  },
  {
   "cell_type": "code",
   "execution_count": 13,
   "id": "634ecda9-d5c2-4249-a3f5-ef5eccb4b401",
   "metadata": {},
   "outputs": [
    {
     "name": "stdout",
     "output_type": "stream",
     "text": [
      "Initialization complete\n",
      "Iteration 0, inertia 3513325.8952152096.\n",
      "Iteration 1, inertia 1733928.0047971657.\n",
      "Iteration 2, inertia 1733877.227358605.\n",
      "Iteration 3, inertia 1733837.4816399855.\n",
      "Iteration 4, inertia 1733814.1094886095.\n",
      "Iteration 5, inertia 1733803.454971078.\n",
      "Iteration 6, inertia 1733797.0551785817.\n",
      "Iteration 7, inertia 1733793.5867823071.\n",
      "Iteration 8, inertia 1733791.2995407109.\n",
      "Converged at iteration 8: center shift 0.0013803280109366118 within tolerance 0.0030676854895045984.\n",
      "Initialization complete\n",
      "Iteration 0, inertia 6577846.093709042.\n",
      "Iteration 1, inertia 3220591.18085338.\n",
      "Iteration 2, inertia 2665440.469143823.\n",
      "Iteration 3, inertia 2665403.6379226795.\n",
      "Iteration 4, inertia 2665380.310122384.\n",
      "Iteration 5, inertia 2665364.787033867.\n",
      "Iteration 6, inertia 2665354.949187525.\n",
      "Iteration 7, inertia 2665347.9961849838.\n",
      "Iteration 8, inertia 2665345.0757108484.\n",
      "Iteration 9, inertia 2665342.493681225.\n",
      "Iteration 10, inertia 2665340.660373859.\n",
      "Converged at iteration 10: center shift 0.0011527211853595487 within tolerance 0.0030676854895045984.\n",
      "Initialization complete\n",
      "Iteration 0, inertia 4591201.1495081475.\n",
      "Iteration 1, inertia 1763133.968163737.\n",
      "Iteration 2, inertia 1610644.717365866.\n",
      "Iteration 3, inertia 1610629.9044031203.\n",
      "Iteration 4, inertia 1610621.500409625.\n",
      "Iteration 5, inertia 1610617.0851700963.\n",
      "Iteration 6, inertia 1610615.751004646.\n",
      "Converged at iteration 6: center shift 0.0017865733938395717 within tolerance 0.0030676854895045984.\n"
     ]
    },
    {
     "data": {
      "text/plain": [
       "KMeans(algorithm='full', init='random', n_clusters=10, n_init=3,\n",
       "       random_state=42, verbose=True)"
      ]
     },
     "execution_count": 13,
     "metadata": {},
     "output_type": "execute_result"
    }
   ],
   "source": [
    "kmeans.init = \"random\"\n",
    "kmeans.fit(data)"
   ]
  },
  {
   "cell_type": "code",
   "execution_count": 14,
   "id": "7e4a2217-4896-459c-8ca3-192bcb7a9a63",
   "metadata": {},
   "outputs": [
    {
     "name": "stdout",
     "output_type": "stream",
     "text": [
      "Initialization complete\n",
      "Iteration 0, inertia 154368.93169434695.\n",
      "Iteration 1, inertia 79901.86219920107.\n",
      "Converged at iteration 1: strict convergence.\n",
      "Initialization complete\n",
      "Iteration 0, inertia 158932.53147092968.\n",
      "Iteration 1, inertia 79901.86219920106.\n",
      "Converged at iteration 1: strict convergence.\n",
      "Initialization complete\n",
      "Iteration 0, inertia 150585.9459302801.\n",
      "Iteration 1, inertia 79901.86219920106.\n",
      "Converged at iteration 1: strict convergence.\n"
     ]
    },
    {
     "data": {
      "text/plain": [
       "KMeans(algorithm='full', n_clusters=10, n_init=3, random_state=42, verbose=True)"
      ]
     },
     "execution_count": 14,
     "metadata": {},
     "output_type": "execute_result"
    }
   ],
   "source": [
    "kmeans.init = \"k-means++\"\n",
    "kmeans.fit(data)"
   ]
  },
  {
   "cell_type": "code",
   "execution_count": null,
   "id": "a2279bb3-01a8-40f9-a10c-46bb8a9c0dae",
   "metadata": {},
   "outputs": [],
   "source": []
  }
 ],
 "metadata": {
  "kernelspec": {
   "display_name": "Python 3",
   "language": "python",
   "name": "python3"
  },
  "language_info": {
   "codemirror_mode": {
    "name": "ipython",
    "version": 3
   },
   "file_extension": ".py",
   "mimetype": "text/x-python",
   "name": "python",
   "nbconvert_exporter": "python",
   "pygments_lexer": "ipython3",
   "version": "3.8.10"
  }
 },
 "nbformat": 4,
 "nbformat_minor": 5
}
