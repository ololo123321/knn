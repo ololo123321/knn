{
 "cells": [
  {
   "cell_type": "code",
   "execution_count": 1,
   "id": "e344ef83-c75a-41ce-92a8-db5bf07d067a",
   "metadata": {},
   "outputs": [],
   "source": [
    "import sys\n",
    "import numpy as np\n",
    "\n",
    "sys.path.insert(0, \"..\")\n",
    "from src.indexers import IndexerFlat, IndexerPQ, IndexerIVFPQ, DistanceComputationModes\n",
    "\n",
    "%load_ext autoreload\n",
    "%autoreload 2"
   ]
  },
  {
   "cell_type": "markdown",
   "id": "bb9f51c6-60ea-46cc-bcf8-02f4425cb599",
   "metadata": {},
   "source": [
    "### setup data and hyperparameters"
   ]
  },
  {
   "cell_type": "code",
   "execution_count": 2,
   "id": "f5dc3ca1-616d-429d-865f-06dd5b15c850",
   "metadata": {},
   "outputs": [],
   "source": [
    "n = 10000  # number of points\n",
    "D = 8  # hidden dim\n",
    "n_train = 1000  # number of points to fir kmeans\n",
    "random_state = 42  # random state to choose train sample\n",
    "d = 2  # block dim\n",
    "assert D % d == 0\n",
    "nb = D // d  # number of blocks\n",
    "nc = 256  # number of codes, <= 2**8\n",
    "nl = 10  # number of leaves, <= n\n",
    "m = 3  # number of queries\n",
    "k = 10  # number of closest points to retrieve\n",
    "\n",
    "np.random.seed(0)\n",
    "data = np.random.uniform(size=(n, D))\n",
    "queries = np.random.uniform(size=(m, D))"
   ]
  },
  {
   "cell_type": "markdown",
   "id": "5bd8b135-0091-4971-9595-e81bd887585c",
   "metadata": {},
   "source": [
    "### flat"
   ]
  },
  {
   "cell_type": "code",
   "execution_count": 3,
   "id": "45d48e33-f9ae-4d28-a1d5-635fc06a0bca",
   "metadata": {},
   "outputs": [
    {
     "name": "stdout",
     "output_type": "stream",
     "text": [
      "CPU times: user 29 µs, sys: 27 µs, total: 56 µs\n",
      "Wall time: 66 µs\n"
     ]
    }
   ],
   "source": [
    "%%time\n",
    "flat = IndexerFlat()\n",
    "flat.fit(data)"
   ]
  },
  {
   "cell_type": "code",
   "execution_count": 4,
   "id": "c711cc9d-b050-477e-bbdb-075c51dbd68f",
   "metadata": {},
   "outputs": [
    {
     "name": "stdout",
     "output_type": "stream",
     "text": [
      "CPU times: user 7.48 ms, sys: 0 ns, total: 7.48 ms\n",
      "Wall time: 6.93 ms\n"
     ]
    }
   ],
   "source": [
    "%%time\n",
    "res_flat = flat.search(queries, k=k)"
   ]
  },
  {
   "cell_type": "code",
   "execution_count": 5,
   "id": "16798d23-5519-45a4-a5a1-2cac43795b83",
   "metadata": {},
   "outputs": [
    {
     "data": {
      "text/plain": [
       "SearchResult(indices=array([[2610, 6939, 7066, 6540, 6132, 5488, 2995, 8057, 8110, 9541],\n",
       "       [7675, 4883, 9183, 9362, 7864, 2017, 1890, 3246, 9448, 6925],\n",
       "       [4713, 5222, 2356, 7372, 7804,  137, 1533,  554, 8186, 7431]]), distances=array([[0.21853444, 0.26512856, 0.34076707, 0.36802012, 0.37083441,\n",
       "        0.38281394, 0.3907406 , 0.39185182, 0.40083054, 0.40343069],\n",
       "       [0.20758142, 0.28236194, 0.31947943, 0.32950834, 0.37668377,\n",
       "        0.3839569 , 0.41757126, 0.42343857, 0.42984467, 0.43013169],\n",
       "       [0.27695859, 0.31096122, 0.38545311, 0.38818866, 0.39941996,\n",
       "        0.42291079, 0.43586913, 0.45110217, 0.46084486, 0.461539  ]]))"
      ]
     },
     "execution_count": 5,
     "metadata": {},
     "output_type": "execute_result"
    }
   ],
   "source": [
    "res_flat"
   ]
  },
  {
   "cell_type": "code",
   "execution_count": 6,
   "id": "887b7aa3-18ee-41f4-aa4d-4dd07f85bf98",
   "metadata": {},
   "outputs": [
    {
     "name": "stdout",
     "output_type": "stream",
     "text": [
      "2.13 ms ± 28.1 µs per loop (mean ± std. dev. of 7 runs, 100 loops each)\n"
     ]
    }
   ],
   "source": [
    "%timeit flat.search(queries, k=k)"
   ]
  },
  {
   "cell_type": "markdown",
   "id": "0c6a47cf-b085-4895-a56a-bf34ec6be562",
   "metadata": {},
   "source": [
    "* a way to compare approximate nn with exact nn"
   ]
  },
  {
   "cell_type": "code",
   "execution_count": 7,
   "id": "fda44e41-4116-4b97-87b5-8a8ac0e731d2",
   "metadata": {},
   "outputs": [],
   "source": [
    "from sklearn.metrics import ndcg_score\n",
    "from src.indexers import SearchResult, cdist_nd\n",
    "\n",
    "def ndcg(res: SearchResult, k=None) -> float:\n",
    "    y_true = cdist_nd(queries[:, None, :], data[res.indices])  # [m, 1, D], [m, k, D] -> [m, 1, k]\n",
    "    return ndcg_score(1 / y_true.squeeze(1), 1 / res.distances, k=k)"
   ]
  },
  {
   "cell_type": "markdown",
   "id": "664162e8-9e08-480a-a3cc-f75f46090441",
   "metadata": {},
   "source": [
    "### pq"
   ]
  },
  {
   "cell_type": "code",
   "execution_count": 8,
   "id": "212f7259-47eb-4c8e-b157-65eaf85a73dd",
   "metadata": {},
   "outputs": [
    {
     "name": "stderr",
     "output_type": "stream",
     "text": [
      "100%|██████████| 4/4 [00:11<00:00,  2.89s/it]"
     ]
    },
    {
     "name": "stdout",
     "output_type": "stream",
     "text": [
      "CPU times: user 40 s, sys: 1min 35s, total: 2min 15s\n",
      "Wall time: 11.6 s\n"
     ]
    },
    {
     "name": "stderr",
     "output_type": "stream",
     "text": [
      "\n"
     ]
    }
   ],
   "source": [
    "%%time\n",
    "pq = IndexerPQ(D=D, d=d, nc=nc)\n",
    "pq.fit(data, n_train=n_train, random_state=random_state)"
   ]
  },
  {
   "cell_type": "code",
   "execution_count": 9,
   "id": "a11108d8-a3e3-44e1-851a-b58645193647",
   "metadata": {},
   "outputs": [
    {
     "name": "stdout",
     "output_type": "stream",
     "text": [
      "CPU times: user 19.6 ms, sys: 36 ms, total: 55.6 ms\n",
      "Wall time: 5.11 ms\n"
     ]
    }
   ],
   "source": [
    "%%time\n",
    "res_pq_adc = pq.search(queries, k=k, dc_mode=DistanceComputationModes.ADC)"
   ]
  },
  {
   "cell_type": "code",
   "execution_count": 10,
   "id": "0038df52-b596-418a-ab74-6896dd2ff9c2",
   "metadata": {},
   "outputs": [
    {
     "data": {
      "text/plain": [
       "0.9987412339770075"
      ]
     },
     "execution_count": 10,
     "metadata": {},
     "output_type": "execute_result"
    }
   ],
   "source": [
    "ndcg(res_pq_adc)"
   ]
  },
  {
   "cell_type": "code",
   "execution_count": 11,
   "id": "c0bb8177-fa31-49a0-b883-ed724656377b",
   "metadata": {},
   "outputs": [
    {
     "name": "stdout",
     "output_type": "stream",
     "text": [
      "CPU times: user 8.09 ms, sys: 199 µs, total: 8.29 ms\n",
      "Wall time: 7.61 ms\n"
     ]
    }
   ],
   "source": [
    "%%time\n",
    "res_pq_sdc = pq.search(queries, k=k, dc_mode=DistanceComputationModes.SDC)"
   ]
  },
  {
   "cell_type": "code",
   "execution_count": 12,
   "id": "d203e972-3bef-48ba-a426-9318f870abb1",
   "metadata": {},
   "outputs": [
    {
     "data": {
      "text/plain": [
       "0.9979474072477782"
      ]
     },
     "execution_count": 12,
     "metadata": {},
     "output_type": "execute_result"
    }
   ],
   "source": [
    "ndcg(res_pq_sdc)"
   ]
  },
  {
   "cell_type": "code",
   "execution_count": 13,
   "id": "dd8af44d-3340-4508-a5d6-7f3733617eb1",
   "metadata": {},
   "outputs": [
    {
     "data": {
      "text/plain": [
       "0.9987412339770075"
      ]
     },
     "execution_count": 13,
     "metadata": {},
     "output_type": "execute_result"
    }
   ],
   "source": [
    "pq.n_loops = 2\n",
    "res_pq_2 = pq.search(queries, k=k)\n",
    "ndcg(res_pq_2)"
   ]
  },
  {
   "cell_type": "code",
   "execution_count": 14,
   "id": "43be07a7-aef5-44d5-94a9-afb33d970ff8",
   "metadata": {},
   "outputs": [
    {
     "data": {
      "text/plain": [
       "0.9987412339770075"
      ]
     },
     "execution_count": 14,
     "metadata": {},
     "output_type": "execute_result"
    }
   ],
   "source": [
    "pq.n_loops = 3\n",
    "res_pq_3 = pq.search(queries, k=k)\n",
    "ndcg(res_pq_3)"
   ]
  },
  {
   "cell_type": "code",
   "execution_count": 15,
   "id": "7806f98c-6f5b-4b48-9df2-77a26f623a02",
   "metadata": {},
   "outputs": [
    {
     "name": "stdout",
     "output_type": "stream",
     "text": [
      "0\n",
      "3.5 ms ± 52.2 µs per loop (mean ± std. dev. of 7 runs, 100 loops each)\n",
      "==============================\n",
      "2\n",
      "127 ms ± 1.14 ms per loop (mean ± std. dev. of 7 runs, 10 loops each)\n",
      "==============================\n",
      "3\n",
      "65.7 ms ± 606 µs per loop (mean ± std. dev. of 7 runs, 10 loops each)\n",
      "==============================\n"
     ]
    }
   ],
   "source": [
    "for n_loops in [0,2,3]:\n",
    "    print(n_loops)\n",
    "    pq.n_loops = n_loops\n",
    "    %timeit pq.search(queries, k=k)\n",
    "    print(\"=\" * 30)"
   ]
  },
  {
   "cell_type": "code",
   "execution_count": 16,
   "id": "3c9d9eb8-43c8-4661-9f5a-4793b4c0edc3",
   "metadata": {},
   "outputs": [
    {
     "name": "stdout",
     "output_type": "stream",
     "text": [
      "3.15 ms ± 41 µs per loop (mean ± std. dev. of 7 runs, 100 loops each)\n"
     ]
    }
   ],
   "source": [
    "pq.n_loops = 0\n",
    "%timeit pq.search(queries, k=k, dc_mode=DistanceComputationModes.SDC)"
   ]
  },
  {
   "cell_type": "markdown",
   "id": "5c649fea-0f0d-44d5-8229-461736513f14",
   "metadata": {},
   "source": [
    "### ivfpq"
   ]
  },
  {
   "cell_type": "code",
   "execution_count": 17,
   "id": "ff0b6265-f9ee-4f59-a507-8a11f5767620",
   "metadata": {},
   "outputs": [
    {
     "name": "stderr",
     "output_type": "stream",
     "text": [
      "100%|██████████| 4/4 [03:44<00:00, 56.22s/it]"
     ]
    },
    {
     "name": "stdout",
     "output_type": "stream",
     "text": [
      "CPU times: user 10min 51s, sys: 30min 12s, total: 41min 3s\n",
      "Wall time: 3min 45s\n"
     ]
    },
    {
     "name": "stderr",
     "output_type": "stream",
     "text": [
      "\n"
     ]
    }
   ],
   "source": [
    "%%time\n",
    "ivfpq = IndexerIVFPQ(D=D, d=d, nc=nc, num_leaves=nl)\n",
    "ivfpq.fit(data, n_train=n_train, random_state=random_state)"
   ]
  },
  {
   "cell_type": "code",
   "execution_count": 18,
   "id": "71a88aa2-6d2e-425b-a63b-b772fb53448e",
   "metadata": {},
   "outputs": [
    {
     "name": "stdout",
     "output_type": "stream",
     "text": [
      "CPU times: user 6 µs, sys: 17 µs, total: 23 µs\n",
      "Wall time: 5.48 µs\n"
     ]
    }
   ],
   "source": [
    "%time\n",
    "res_ivfpq_1 = ivfpq.search(queries, k=k, nprobe=1)"
   ]
  },
  {
   "cell_type": "code",
   "execution_count": 19,
   "id": "d9ab370e-79fe-480b-a507-0eea54b2ea3b",
   "metadata": {},
   "outputs": [
    {
     "data": {
      "text/plain": [
       "0.9971601991732161"
      ]
     },
     "execution_count": 19,
     "metadata": {},
     "output_type": "execute_result"
    }
   ],
   "source": [
    "ndcg(res_ivfpq_1)"
   ]
  },
  {
   "cell_type": "code",
   "execution_count": 20,
   "id": "61bcd13c-033a-4437-91ae-b8a0c2731b46",
   "metadata": {},
   "outputs": [
    {
     "name": "stdout",
     "output_type": "stream",
     "text": [
      "CPU times: user 0 ns, sys: 1 µs, total: 1 µs\n",
      "Wall time: 4.77 µs\n"
     ]
    }
   ],
   "source": [
    "%time\n",
    "res_ivfpq_5 = ivfpq.search(queries, k=k, nprobe=5)"
   ]
  },
  {
   "cell_type": "code",
   "execution_count": 21,
   "id": "ca70eac3-45fd-436e-8270-f487cab3c92c",
   "metadata": {},
   "outputs": [
    {
     "data": {
      "text/plain": [
       "0.9984798822454827"
      ]
     },
     "execution_count": 21,
     "metadata": {},
     "output_type": "execute_result"
    }
   ],
   "source": [
    "ndcg(res_ivfpq_5)"
   ]
  },
  {
   "cell_type": "code",
   "execution_count": 22,
   "id": "1c5f3cc7-5c59-4364-b4a8-4c00d347e238",
   "metadata": {},
   "outputs": [
    {
     "name": "stdout",
     "output_type": "stream",
     "text": [
      "2.45 ms ± 17 µs per loop (mean ± std. dev. of 7 runs, 100 loops each)\n"
     ]
    }
   ],
   "source": [
    "%timeit ivfpq.search(queries, k=k, nprobe=1)"
   ]
  },
  {
   "cell_type": "code",
   "execution_count": 23,
   "id": "b2ccd1e0-f273-46c7-b7b4-92064ee8d7d9",
   "metadata": {},
   "outputs": [
    {
     "name": "stdout",
     "output_type": "stream",
     "text": [
      "11.6 ms ± 132 µs per loop (mean ± std. dev. of 7 runs, 100 loops each)\n"
     ]
    }
   ],
   "source": [
    "%timeit ivfpq.search(queries, k=k, nprobe=5)"
   ]
  },
  {
   "cell_type": "code",
   "execution_count": null,
   "id": "c4814afd-0082-4f0b-83a0-3b76e624acee",
   "metadata": {},
   "outputs": [],
   "source": []
  }
 ],
 "metadata": {
  "kernelspec": {
   "display_name": "Python 3",
   "language": "python",
   "name": "python3"
  },
  "language_info": {
   "codemirror_mode": {
    "name": "ipython",
    "version": 3
   },
   "file_extension": ".py",
   "mimetype": "text/x-python",
   "name": "python",
   "nbconvert_exporter": "python",
   "pygments_lexer": "ipython3",
   "version": "3.8.10"
  }
 },
 "nbformat": 4,
 "nbformat_minor": 5
}
