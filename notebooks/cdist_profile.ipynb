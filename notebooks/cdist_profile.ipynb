{
 "cells": [
  {
   "cell_type": "code",
   "execution_count": 1,
   "id": "a567322d-db73-4450-9f4e-7c9cb5daff0f",
   "metadata": {},
   "outputs": [],
   "source": [
    "import sys\n",
    "import numpy as np\n",
    "from scipy.spatial.distance import cdist\n",
    "from matplotlib import pyplot as plt\n",
    "\n",
    "sys.path.insert(0, \"..\")\n",
    "from src.utils import cdist_2d_v1, cdist_2d_v2\n",
    "\n",
    "%matplotlib inline"
   ]
  },
  {
   "cell_type": "code",
   "execution_count": 2,
   "id": "91865cd8-e60f-4ada-aee2-20242d3e29a5",
   "metadata": {},
   "outputs": [],
   "source": [
    "n = 1000\n",
    "m = 100\n",
    "d = 32\n",
    "a = np.random.uniform(size=(n, d))\n",
    "b = np.random.uniform(size=(m, d))"
   ]
  },
  {
   "cell_type": "markdown",
   "id": "c223187b-e7dc-4253-b966-3af6d02b6e94",
   "metadata": {},
   "source": [
    "### `scipy.spatial.distance.cdist` vs `v1` vs `v2`"
   ]
  },
  {
   "cell_type": "code",
   "execution_count": 3,
   "id": "17eb5c34-575b-4e29-b525-639b554e81f9",
   "metadata": {},
   "outputs": [
    {
     "name": "stdout",
     "output_type": "stream",
     "text": [
      "1.04 ms ± 4.61 µs per loop (mean ± std. dev. of 7 runs, 1000 loops each)\n"
     ]
    }
   ],
   "source": [
    "%timeit cdist(a, b)"
   ]
  },
  {
   "cell_type": "code",
   "execution_count": 4,
   "id": "9892822b-8fe8-4249-bddf-78c7f2415e2e",
   "metadata": {},
   "outputs": [
    {
     "name": "stdout",
     "output_type": "stream",
     "text": [
      "12.3 ms ± 94.3 µs per loop (mean ± std. dev. of 7 runs, 100 loops each)\n"
     ]
    }
   ],
   "source": [
    "%timeit cdist_2d_v1(a, b)"
   ]
  },
  {
   "cell_type": "code",
   "execution_count": 5,
   "id": "2b0fd702-7b0c-4f02-9c72-ebab7981ea31",
   "metadata": {},
   "outputs": [
    {
     "name": "stdout",
     "output_type": "stream",
     "text": [
      "602 µs ± 128 µs per loop (mean ± std. dev. of 7 runs, 1000 loops each)\n"
     ]
    }
   ],
   "source": [
    "%timeit cdist_2d_v2(a, b)"
   ]
  },
  {
   "cell_type": "markdown",
   "id": "0668901d-9123-428a-8bd8-b74b7af372bb",
   "metadata": {},
   "source": [
    "### {`scipy.spatial.distance.cdist`, `v1`, `v2`} vs `d`"
   ]
  },
  {
   "cell_type": "code",
   "execution_count": 6,
   "id": "5e6ee29a-5787-4fbf-afc1-9555c1976878",
   "metadata": {},
   "outputs": [],
   "source": [
    "def plot_errorbar(stats):\n",
    "    \"\"\"\n",
    "    stats[key] = mean, std\n",
    "    \"\"\"\n",
    "    x = list(range(len(stats)))\n",
    "    y = [v[0] for v in stats.values()]\n",
    "    e = [v[1] for v in stats.values()]\n",
    "    plt.errorbar(x, y, e, linestyle='None', marker='o')\n",
    "    plt.xticks(x, stats.keys())\n",
    "    plt.grid()\n",
    "\n",
    "def test(cdist_fn):\n",
    "    res = {}\n",
    "    for d in range(1, 11):\n",
    "        r = %timeit -o cdist_fn(a[:, :d], b[:, :d])\n",
    "        res[d] = r.average * 1000, r.stdev * 1000\n",
    "    plot_errorbar(res)"
   ]
  },
  {
   "cell_type": "code",
   "execution_count": 7,
   "id": "62b333fd-9fab-44d9-8964-5fe62e7d09c8",
   "metadata": {},
   "outputs": [
    {
     "name": "stdout",
     "output_type": "stream",
     "text": [
      "523 µs ± 2.55 µs per loop (mean ± std. dev. of 7 runs, 1000 loops each)\n",
      "528 µs ± 3.55 µs per loop (mean ± std. dev. of 7 runs, 1000 loops each)\n",
      "285 µs ± 3.78 µs per loop (mean ± std. dev. of 7 runs, 1000 loops each)\n",
      "274 µs ± 1.19 µs per loop (mean ± std. dev. of 7 runs, 1000 loops each)\n",
      "332 µs ± 2.64 µs per loop (mean ± std. dev. of 7 runs, 1000 loops each)\n",
      "338 µs ± 5.11 µs per loop (mean ± std. dev. of 7 runs, 1000 loops each)\n",
      "401 µs ± 6.17 µs per loop (mean ± std. dev. of 7 runs, 1000 loops each)\n",
      "398 µs ± 14.6 µs per loop (mean ± std. dev. of 7 runs, 1000 loops each)\n",
      "449 µs ± 5.45 µs per loop (mean ± std. dev. of 7 runs, 1000 loops each)\n",
      "439 µs ± 5.23 µs per loop (mean ± std. dev. of 7 runs, 1000 loops each)\n"
     ]
    },
    {
     "data": {
      "image/png": "[encoded data removed]",
      "text/plain": [
       "<Figure size 432x288 with 1 Axes>"
      ]
     },
     "metadata": {
      "needs_background": "light"
     },
     "output_type": "display_data"
    }
   ],
   "source": [
    "test(cdist)"
   ]
  },
  {
   "cell_type": "code",
   "execution_count": 8,
   "id": "a770bd4c-5a2b-4ded-b1cb-31ad9715680a",
   "metadata": {},
   "outputs": [
    {
     "name": "stdout",
     "output_type": "stream",
     "text": [
      "189 µs ± 16.2 µs per loop (mean ± std. dev. of 7 runs, 1000 loops each)\n",
      "2.41 ms ± 19.1 µs per loop (mean ± std. dev. of 7 runs, 100 loops each)\n",
      "2.7 ms ± 20.7 µs per loop (mean ± std. dev. of 7 runs, 100 loops each)\n",
      "2.9 ms ± 31.9 µs per loop (mean ± std. dev. of 7 runs, 100 loops each)\n",
      "3.15 ms ± 26.2 µs per loop (mean ± std. dev. of 7 runs, 100 loops each)\n",
      "3.38 ms ± 30.7 µs per loop (mean ± std. dev. of 7 runs, 100 loops each)\n",
      "3.57 ms ± 31.9 µs per loop (mean ± std. dev. of 7 runs, 100 loops each)\n",
      "3.66 ms ± 55.1 µs per loop (mean ± std. dev. of 7 runs, 100 loops each)\n",
      "3.89 ms ± 53.9 µs per loop (mean ± std. dev. of 7 runs, 100 loops each)\n",
      "4.1 ms ± 44.2 µs per loop (mean ± std. dev. of 7 runs, 100 loops each)\n"
     ]
    },
    {
     "data": {
      "image/png": "[encoded data removed]",
      "text/plain": [
       "<Figure size 432x288 with 1 Axes>"
      ]
     },
     "metadata": {
      "needs_background": "light"
     },
     "output_type": "display_data"
    }
   ],
   "source": [
    "test(cdist_2d_v1)"
   ]
  },
  {
   "cell_type": "code",
   "execution_count": 9,
   "id": "dbfa65d9-04ac-44e9-8d59-0d188c1b508a",
   "metadata": {},
   "outputs": [
    {
     "name": "stdout",
     "output_type": "stream",
     "text": [
      "286 µs ± 12.4 µs per loop (mean ± std. dev. of 7 runs, 1000 loops each)\n",
      "242 µs ± 12.3 µs per loop (mean ± std. dev. of 7 runs, 1000 loops each)\n",
      "517 µs ± 51 µs per loop (mean ± std. dev. of 7 runs, 1000 loops each)\n",
      "571 µs ± 56.6 µs per loop (mean ± std. dev. of 7 runs, 1000 loops each)\n",
      "512 µs ± 57.1 µs per loop (mean ± std. dev. of 7 runs, 1000 loops each)\n",
      "574 µs ± 88.2 µs per loop (mean ± std. dev. of 7 runs, 1000 loops each)\n",
      "606 µs ± 71.3 µs per loop (mean ± std. dev. of 7 runs, 1000 loops each)\n",
      "691 µs ± 108 µs per loop (mean ± std. dev. of 7 runs, 1000 loops each)\n",
      "571 µs ± 56 µs per loop (mean ± std. dev. of 7 runs, 1000 loops each)\n",
      "565 µs ± 29.6 µs per loop (mean ± std. dev. of 7 runs, 1000 loops each)\n"
     ]
    },
    {
     "data": {
      "image/png": "[encoded data removed]",
      "text/plain": [
       "<Figure size 432x288 with 1 Axes>"
      ]
     },
     "metadata": {
      "needs_background": "light"
     },
     "output_type": "display_data"
    }
   ],
   "source": [
    "test(cdist_2d_v2)"
   ]
  },
  {
   "cell_type": "code",
   "execution_count": null,
   "id": "b94da594-dddb-46cf-a30b-19788cd1a6f9",
   "metadata": {},
   "outputs": [],
   "source": []
  }
 ],
 "metadata": {
  "kernelspec": {
   "display_name": "Python 3",
   "language": "python",
   "name": "python3"
  },
  "language_info": {
   "codemirror_mode": {
    "name": "ipython",
    "version": 3
   },
   "file_extension": ".py",
   "mimetype": "text/x-python",
   "name": "python",
   "nbconvert_exporter": "python",
   "pygments_lexer": "ipython3",
   "version": "3.8.10"
  }
 },
 "nbformat": 4,
 "nbformat_minor": 5
}
